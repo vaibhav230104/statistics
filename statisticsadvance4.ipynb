{
 "cells": [
  {
   "cell_type": "code",
   "execution_count": 1,
   "id": "55960beb-6db7-4cf2-852d-880b261dece6",
   "metadata": {},
   "outputs": [],
   "source": [
    "#Q1 t- test used when n<30 and z- test used n>30."
   ]
  },
  {
   "cell_type": "code",
   "execution_count": 2,
   "id": "d46d4f44-b4b1-44df-9704-736d50cd73cc",
   "metadata": {},
   "outputs": [],
   "source": [
    "#Q2 In a one-tailed test, the alternative hypothesis specifies the direction of the effect or difference you are interested in. It focuses on either an increase or a decrease in the parameter being tested. The critical region for the test is located entirely in one tail of the distribution.\n",
    "\n",
    "#In a two-tailed test, the alternative hypothesis does not specify the direction of the effect or difference but focuses on the possibility of any difference. It allows for the consideration of both an increase and a decrease in the parameter being tested. The critical region is divided between the two tails of the distribution"
   ]
  },
  {
   "cell_type": "code",
   "execution_count": 4,
   "id": "1b937ada-4f33-4eaf-8aff-68121731d347",
   "metadata": {},
   "outputs": [],
   "source": [
    "#Q3 A Type 1 error, also known as a false positive, occurs when the null hypothesis (H₀) is rejected when it is actually true. In other words, it's the incorrect rejection of a true null hypothesis. This error implies that you conclude there is a significant effect or difference when, in reality, there isn't one.\n",
    "#A Type 2 error, also known as a false negative, occurs when the null hypothesis (H₀) is not rejected when it is actually false. It means failing to detect a true effect or difference when one exists."
   ]
  },
  {
   "cell_type": "code",
   "execution_count": 6,
   "id": "530ff701-8c76-47d4-aea1-325c1fbecb94",
   "metadata": {},
   "outputs": [],
   "source": [
    "#Q4 P(A|B) = [P(B|A) * P(A)] / P(B)\n",
    "# P(B|A)=0.99,P(A)=1/10000,P(B|not A)=0.02\n",
    "# P(B) = [P(B|A) * P(A)] + [P(B|not A) * P(not A)]\n",
    "# = (0.99 * 1/10000) + (0.02 * 9,999/10000)"
   ]
  },
  {
   "cell_type": "code",
   "execution_count": 7,
   "id": "763f83a1-b53f-4c35-a66c-f8297986b950",
   "metadata": {},
   "outputs": [],
   "source": [
    "#Q5 Confidence interval is the region where we have to accept null hypothesis.\n",
    "#confidence interval = 1 - significance value"
   ]
  },
  {
   "cell_type": "code",
   "execution_count": 18,
   "id": "80cf64c4-35aa-42d6-be28-ad8aaba472db",
   "metadata": {},
   "outputs": [
    {
     "name": "stdout",
     "output_type": "stream",
     "text": [
      "(48.210805856282846, 51.789194143717154)\n"
     ]
    }
   ],
   "source": [
    "#Q7\n",
    "import scipy.stats as stats\n",
    "x = 50\n",
    "std = 5\n",
    "n = 30\n",
    "z = stats.norm.ppf(0.975)\n",
    "lower = x - z*std/(n)**0.5\n",
    "upper = x + z*std/(n)**0.5\n",
    "print((lower,upper))"
   ]
  },
  {
   "cell_type": "code",
   "execution_count": 19,
   "id": "9ff0bdce-2582-45df-85f4-d9fbea8b4626",
   "metadata": {},
   "outputs": [],
   "source": [
    "#Q8\n",
    "# import math\n",
    "# margin of error = z*std_dev/math.sqrt(n)\n",
    "# as we can see margin of error is inversely proportional to n so if we take large value of n margin of error will be small."
   ]
  },
  {
   "cell_type": "code",
   "execution_count": 20,
   "id": "009b8899-cbcb-4814-be61-2b66d42b86d2",
   "metadata": {},
   "outputs": [
    {
     "name": "stdout",
     "output_type": "stream",
     "text": [
      "The z-score is: 1.0\n"
     ]
    }
   ],
   "source": [
    "#Q9\n",
    "data_point = 75\n",
    "population_mean = 70\n",
    "population_stddev = 5\n",
    "\n",
    "z_score = (data_point - population_mean) / population_stddev\n",
    "\n",
    "print(\"The z-score is:\", z_score)\n"
   ]
  },
  {
   "cell_type": "code",
   "execution_count": 1,
   "id": "7ae233f7-204c-4897-97a4-4e50cdd16247",
   "metadata": {},
   "outputs": [],
   "source": [
    "#Q10 \n",
    "# Null hypothesis (H0): The weight loss drug is not significantly effective.\n",
    "# Alternative hypothesis (Ha): The weight loss drug is significantly effective"
   ]
  },
  {
   "cell_type": "code",
   "execution_count": 7,
   "id": "3d9d3083-8aaf-49e5-b3ce-dc06cbac36d7",
   "metadata": {},
   "outputs": [
    {
     "name": "stdout",
     "output_type": "stream",
     "text": [
      "(0.6081925393809212, 0.6918074606190788)\n"
     ]
    }
   ],
   "source": [
    "#Q11\n",
    "import math\n",
    "import scipy.stats as stats\n",
    "p = 0.65 \n",
    "n = 500\n",
    "SE = math.sqrt((p * (1-p)) / n)\n",
    "z = stats.norm.ppf(0.975)\n",
    "lower = p - z*SE\n",
    "upper = p + z*SE\n",
    "print((lower,upper))"
   ]
  },
  {
   "cell_type": "code",
   "execution_count": 8,
   "id": "c65fa2bd-b0d9-4deb-b400-71e56303f43d",
   "metadata": {},
   "outputs": [],
   "source": [
    "#Q12\n",
    "# Null hypothesis (H₀): The two teaching methods do not have a significant difference in student performance. (μ₁ = μ₂)\n",
    "# Alternative hypothesis (H₁): The two teaching methods have a significant difference in student performance. (μ₁ ≠ μ₂)"
   ]
  },
  {
   "cell_type": "code",
   "execution_count": 10,
   "id": "f250e147-a9d4-4ea8-9d7f-9ac1930ea3ec",
   "metadata": {},
   "outputs": [
    {
     "data": {
      "text/plain": [
       "1.311433643950529"
      ]
     },
     "execution_count": 10,
     "metadata": {},
     "output_type": "execute_result"
    }
   ],
   "source": [
    "x = 0.25\n",
    "std = 0.05\n",
    "n = 30\n",
    "alpha = 0.10\n",
    "dof = n-1\n",
    "t = stats.t.ppf(q = 1 - alpha,df = dof)"
   ]
  },
  {
   "cell_type": "code",
   "execution_count": null,
   "id": "86d0fac4-651e-4dd0-a062-332efeb5a636",
   "metadata": {},
   "outputs": [],
   "source": []
  }
 ],
 "metadata": {
  "kernelspec": {
   "display_name": "Python 3 (ipykernel)",
   "language": "python",
   "name": "python3"
  },
  "language_info": {
   "codemirror_mode": {
    "name": "ipython",
    "version": 3
   },
   "file_extension": ".py",
   "mimetype": "text/x-python",
   "name": "python",
   "nbconvert_exporter": "python",
   "pygments_lexer": "ipython3",
   "version": "3.10.8"
  }
 },
 "nbformat": 4,
 "nbformat_minor": 5
}
