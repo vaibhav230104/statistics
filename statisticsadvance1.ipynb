{
 "cells": [
  {
   "cell_type": "code",
   "execution_count": 1,
   "id": "aee94e0c-bfc7-4af7-8332-f0a3078f1433",
   "metadata": {},
   "outputs": [],
   "source": [
    "#Q1 It is a continuous random variable. example:heights of students in classroom."
   ]
  },
  {
   "cell_type": "code",
   "execution_count": 2,
   "id": "a8c5f70a-7338-433d-8a49-d03a77f0ebe2",
   "metadata": {},
   "outputs": [],
   "source": [
    "#Q2 \n",
    "# a. Normal/Gaussian distribuiton.\n",
    "# b. Bernoulli distribution.\n",
    "# c. Uniform distribution.\n",
    "# d. Poisson distribution.\n",
    "# e. Log Normal distribution.\n",
    "# f. Binomial distribution."
   ]
  },
  {
   "cell_type": "code",
   "execution_count": 4,
   "id": "3c5376c6-8073-443f-9d06-8478fc3e532e",
   "metadata": {},
   "outputs": [
    {
     "data": {
      "text/plain": [
       "0.008863696823876015"
      ]
     },
     "execution_count": 4,
     "metadata": {},
     "output_type": "execute_result"
    }
   ],
   "source": [
    "#Q3\n",
    "import math\n",
    "\n",
    "def normal_pdf(x, mean, std_dev):\n",
    "    coefficient = 1 / (std_dev * math.sqrt(2 * math.pi))\n",
    "    exponent = -((x - mean) ** 2) / (2 * std_dev ** 2)\n",
    "    pdf = coefficient * math.exp(exponent)\n",
    "    return pdf\n",
    "normal_pdf(3.5,2.0,0.5)"
   ]
  },
  {
   "cell_type": "code",
   "execution_count": 5,
   "id": "5b6ce630-1c32-45a7-8299-114b378d0241",
   "metadata": {},
   "outputs": [],
   "source": [
    "#Q4 mean = np, variance = npq, example: tossing a coin 10 times.\n"
   ]
  },
  {
   "cell_type": "code",
   "execution_count": 10,
   "id": "0c657bee-45e4-462f-a303-ebfcaf9ad24a",
   "metadata": {},
   "outputs": [
    {
     "data": {
      "text/plain": [
       "(array([587.,   0.,   0.,   0.,   0.,   0.,   0.,   0.,   0., 413.]),\n",
       " array([0. , 0.1, 0.2, 0.3, 0.4, 0.5, 0.6, 0.7, 0.8, 0.9, 1. ]),\n",
       " <BarContainer object of 10 artists>)"
      ]
     },
     "execution_count": 10,
     "metadata": {},
     "output_type": "execute_result"
    },
    {
     "data": {
      "image/png": "[encoded data removed]",
      "text/plain": [
       "<Figure size 640x480 with 1 Axes>"
      ]
     },
     "metadata": {},
     "output_type": "display_data"
    }
   ],
   "source": [
    "#Q5 \n",
    "import numpy as np\n",
    "import matplotlib.pyplot as plt\n",
    "binomial = np.random.binomial(1,0.4,1000)\n",
    "plt.hist(binomial)"
   ]
  },
  {
   "cell_type": "code",
   "execution_count": 20,
   "id": "3ab3deeb-6e33-436f-9059-eb6f95d614a8",
   "metadata": {},
   "outputs": [
    {
     "data": {
      "text/plain": [
       "0.6766764161830634"
      ]
     },
     "execution_count": 20,
     "metadata": {},
     "output_type": "execute_result"
    }
   ],
   "source": [
    "#Q6\n",
    "from scipy.stats import poisson\n",
    "def poisson_cdf(k,mean):\n",
    "    cdf = poisson.cdf(k,mean)\n",
    "    return cdf\n",
    "poisson_cdf(2,2)"
   ]
  },
  {
   "cell_type": "code",
   "execution_count": 22,
   "id": "5d9da6fe-95b7-4cf2-9d07-fa8435bd3fea",
   "metadata": {},
   "outputs": [],
   "source": [
    "#Q7\n",
    "#in binomial we can take 3 imput n,p,size and in poisson we can take 2 input mean,k"
   ]
  },
  {
   "cell_type": "code",
   "execution_count": 36,
   "id": "551f20be-cb2c-4509-9f4e-de61b1282a54",
   "metadata": {},
   "outputs": [
    {
     "name": "stdout",
     "output_type": "stream",
     "text": [
      "5.095\n",
      "4.687975000000001\n"
     ]
    }
   ],
   "source": [
    "#Q8\n",
    "array = np.random.poisson(5,1000)\n",
    "print(np.mean(array))\n",
    "print(np.var(array))"
   ]
  },
  {
   "cell_type": "code",
   "execution_count": 37,
   "id": "9a2a5b2a-64ac-42a7-9803-3b0f8a1e60e9",
   "metadata": {},
   "outputs": [],
   "source": [
    "#Q9\n",
    "# Binomial - mean=np ,variance=npq\n",
    "# Poisson - mean=lambda*t , variance= lambda*t"
   ]
  },
  {
   "cell_type": "code",
   "execution_count": 38,
   "id": "197aabf3-e076-415b-8143-e2a50bcf00ad",
   "metadata": {},
   "outputs": [],
   "source": [
    "#Q10 In a normal distribution, the least frequent data appears in the tails of the distribution, which are the extreme ends."
   ]
  },
  {
   "cell_type": "code",
   "execution_count": null,
   "id": "5f30b175-a5df-4114-b6c8-154c7447db47",
   "metadata": {},
   "outputs": [],
   "source": []
  }
 ],
 "metadata": {
  "kernelspec": {
   "display_name": "Python 3 (ipykernel)",
   "language": "python",
   "name": "python3"
  },
  "language_info": {
   "codemirror_mode": {
    "name": "ipython",
    "version": 3
   },
   "file_extension": ".py",
   "mimetype": "text/x-python",
   "name": "python",
   "nbconvert_exporter": "python",
   "pygments_lexer": "ipython3",
   "version": "3.10.8"
  }
 },
 "nbformat": 4,
 "nbformat_minor": 5
}
