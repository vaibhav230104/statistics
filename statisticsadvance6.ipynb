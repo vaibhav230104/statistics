{
 "cells": [
  {
   "cell_type": "code",
   "execution_count": null,
   "id": "0a4823f4-4449-447e-97e9-c47da651f084",
   "metadata": {},
   "outputs": [],
   "source": [
    "#Q1Independence of observations within groups.\n",
    "# Normal distribution of the dependent variable within each group.\n",
    "# Homogeneity of variances across groups.\n",
    "# Random sampling or assignment to groups.\n",
    "# Violations can include lack of independence (e.g., repeated measures), non-normality, unequal variances, or non-random sampling."
   ]
  },
  {
   "cell_type": "code",
   "execution_count": 1,
   "id": "51b23e76-88d0-4dc6-b55e-58a1d2d0e503",
   "metadata": {},
   "outputs": [],
   "source": [
    "#Q2 One-Way ANOVA: Used when comparing means across two or more independent groups.\n",
    "# Two-Way ANOVA: Used when examining the effects of two independent variables on a dependent variable.\n",
    "# Repeated Measures ANOVA: Used when measuring the same individuals multiple times under different conditions."
   ]
  },
  {
   "cell_type": "code",
   "execution_count": 2,
   "id": "046c5d1e-c48d-4b7a-bfdc-5f9af05426e9",
   "metadata": {},
   "outputs": [],
   "source": [
    "#Q3ANOVA partitions the total variance into different components: the explained variance (due to the factors being studied) and the residual variance (unexplained variance). Understanding this concept helps determine the contribution of each factor and the extent to which they explain the observed variability."
   ]
  },
  {
   "cell_type": "code",
   "execution_count": 4,
   "id": "1335e662-4a7e-4b91-8d9d-2e04e680ffb8",
   "metadata": {},
   "outputs": [],
   "source": [
    "#Q4 Calculation of sums of squares (SST, SSE, SSR) in one-way ANOVA using Python:\n",
    "#Python packages like SciPy or statsmodels can be used to perform ANOVA calculations. SST is the total sum of squares, SSE is the explained sum of squares, and SSR is the residual sum of squares. These can be obtained using functions like scipy.stats.f_oneway() or statsmodels.api.stats.anova_lm()"
   ]
  },
  {
   "cell_type": "code",
   "execution_count": 5,
   "id": "34c5c457-6d12-4056-9d81-b233230241b7",
   "metadata": {},
   "outputs": [],
   "source": [
    "#Q5 Calculation of main effects and interaction effects in two-way ANOVA using Python:\n",
    "#For main effects, separate one-way ANOVAs can be conducted for each factor. For interaction effects, the interaction term is added to the model, and its significance can be assessed using appropriate functions in Python packages like statsmodels"
   ]
  },
  {
   "cell_type": "code",
   "execution_count": 6,
   "id": "a8f16fa7-5934-4573-adeb-dc8c2351f028",
   "metadata": {},
   "outputs": [],
   "source": [
    "#Q6 Interpretation of F-statistic and p-value in one-way ANOVA:\n",
    "#With an F-statistic of 5.23 and a p-value of 0.02, you can conclude that there are significant differences between the groups. The F-statistic indicates the ratio of the explained variance to the unexplained variance, and the p-value suggests that the observed differences are unlikely due to random chance."
   ]
  },
  {
   "cell_type": "code",
   "execution_count": 7,
   "id": "6ec28f47-3f8c-42fb-acb8-e57c9d697956",
   "metadata": {},
   "outputs": [],
   "source": [
    "#Q7 Handling missing data in repeated measures ANOVA:\n",
    "#Missing data can be handled by various methods, such as pairwise deletion, mean imputation, or multiple imputation. The consequences of different methods can include biased estimates, reduced power, or distorted results. The appropriate method depends on the nature and extent of missingness and should be carefully considered"
   ]
  },
  {
   "cell_type": "code",
   "execution_count": 8,
   "id": "2d627273-cd8e-432a-8e00-f82abe288cae",
   "metadata": {},
   "outputs": [],
   "source": [
    "#Q8 Common post-hoc tests after ANOVA and their usage:\n",
    "\n",
    "# Tukey's Honestly Significant Difference (Tukey's HSD): Used to compare all possible pairs of group means and identify significant differences.\n",
    "# Bonferroni correction: Controls for multiple comparisons by adjusting the significance threshold.\n",
    "# Scheffe's test: Suitable for comparing complex contrasts or customized hypotheses.\n",
    "# Post-hoc tests are necessary when the ANOVA reveals significant differences among groups but doesn't specify which specific groups differ from each other. For example, when conducting a one-way ANOVA with three treatment groups and finding a significant effect, a post-hoc test can determine which specific pairs of groups are significantly different from each other."
   ]
  },
  {
   "cell_type": "code",
   "execution_count": 33,
   "id": "e4448d70-68e1-4d45-ae00-909f68b4d639",
   "metadata": {},
   "outputs": [
    {
     "name": "stdout",
     "output_type": "stream",
     "text": [
      "F-statistic: 0.3452298452298452\n",
      "p-value: 0.7086301051774055\n"
     ]
    }
   ],
   "source": [
    "#Q9\n",
    "import numpy as np\n",
    "import scipy.stats as stats\n",
    "\n",
    "# Weight loss data for the three diets\n",
    "diet_A = np.array(np.random.randint(1,5,50)) \n",
    "diet_B = np.array(np.random.randint(1,5,50))  \n",
    "diet_C = np.array(np.random.randint(1,5,50))  \n",
    "\n",
    "# Perform one-way ANOVA\n",
    "f_statistic, p_value = stats.f_oneway(diet_A, diet_B, diet_C)\n",
    "\n",
    "# Print the results\n",
    "print(\"F-statistic:\", f_statistic)\n",
    "print(\"p-value:\", p_value)\n"
   ]
  },
  {
   "cell_type": "code",
   "execution_count": 36,
   "id": "7e73e8a9-8aeb-4d36-9541-5d7fb4d5c07f",
   "metadata": {},
   "outputs": [],
   "source": [
    "#Q10\n",
    "# import pandas as pd\n",
    "# import statsmodels.api as sm\n",
    "# from statsmodels.formula.api import ols\n",
    "\n",
    "# # Task completion time data\n",
    "# data = pd.read_csv(\"task_completion_data.csv\")  # Assuming the data is stored in a CSV file\n",
    "\n",
    "# # Perform two-way ANOVA\n",
    "# model = ols('completion_time ~ software_program + experience_level + software_program * experience_level', data=data).fit()\n",
    "# anova_table = sm.stats.anova_lm(model)\n",
    "\n",
    "# # Print the ANOVA table\n",
    "# print(anova_table)\n",
    "\n",
    "# import pandas as pd\n",
    "# import scipy.stats as stats\n",
    "\n",
    "# # Task completion time data with software programs, experience level, and completion time\n",
    "# data = pd.read_csv(\"task_completion_data.csv\")  # Assuming the data is stored in a CSV file\n",
    "\n",
    "# Perform two-way ANOVA\n",
    "# software_programs = ['Program A', 'Program B', 'Program C']\n",
    "# experience_levels = ['Novice', 'Experienced']\n",
    "\n",
    "# # Create separate data frames for each combination of software program and experience level\n",
    "# data_combinations = []\n",
    "# for program in software_programs:\n",
    "#     for level in experience_levels:\n",
    "#         combination = data[(data['Software Program'] == program) & (data['Experience Level'] == level)]['Completion Time']\n",
    "#         data_combinations.append(combination)\n",
    "\n",
    "# # Perform the two-way ANOVA\n",
    "# f_statistic, p_value = stats.f_oneway(*data_combinations)\n",
    "\n",
    "# # Print the F-statistic and p-value\n",
    "# print(\"F-statistic:\", f_statistic)\n",
    "# print(\"p-value:\", p_value)\n"
   ]
  },
  {
   "cell_type": "code",
   "execution_count": 37,
   "id": "5a820e80-302c-4014-878e-d6d7b1582881",
   "metadata": {},
   "outputs": [],
   "source": [
    "#Q11\n",
    "# import scipy.stats as stats\n",
    "\n",
    "# # Test score data for control and experimental groups\n",
    "# control_group = [85, 78, 90, 92, 83, ...]  # List of test scores for control group\n",
    "# experimental_group = [88, 92, 95, 86, 89, ...]  # List of test scores for experimental group\n",
    "\n",
    "# # Perform two-sample t-test\n",
    "# t_statistic, p_value = stats.ttest_ind(control_group, experimental_group)\n",
    "\n",
    "# # Print the results\n",
    "# print(\"t-statistic:\", t_statistic)\n",
    "# print(\"p-value:\", p_value)\n"
   ]
  },
  {
   "cell_type": "code",
   "execution_count": null,
   "id": "329b6dc9-ddb0-4e47-91d2-d82cf3e50119",
   "metadata": {},
   "outputs": [],
   "source": [
    "#Q12\n",
    "# import pandas as pd\n",
    "# import statsmodels.api as sm\n",
    "# from statsmodels.formula.api import ols\n",
    "\n",
    "# # Daily sales data for three stores (Store A, Store B, Store C)\n",
    "# data = pd.read_csv(\"sales_data.csv\")  # Assuming the data is stored in a CSV file\n",
    "\n",
    "# # Perform repeated measures ANOVA\n",
    "# model = ols('Sales ~ Store', data=data).fit()\n",
    "# anova_table = sm.stats.anova_lm(model, typ=2)\n",
    "\n",
    "# # Print the ANOVA table\n",
    "# print(anova_table)\n"
   ]
  }
 ],
 "metadata": {
  "kernelspec": {
   "display_name": "Python 3 (ipykernel)",
   "language": "python",
   "name": "python3"
  },
  "language_info": {
   "codemirror_mode": {
    "name": "ipython",
    "version": 3
   },
   "file_extension": ".py",
   "mimetype": "text/x-python",
   "name": "python",
   "nbconvert_exporter": "python",
   "pygments_lexer": "ipython3",
   "version": "3.10.8"
  }
 },
 "nbformat": 4,
 "nbformat_minor": 5
}
