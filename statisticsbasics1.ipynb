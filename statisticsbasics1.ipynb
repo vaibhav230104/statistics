{
 "cells": [
  {
   "cell_type": "code",
   "execution_count": 6,
   "id": "8a92832c-9bde-4dfb-b4a4-7975ddd8ed4c",
   "metadata": {},
   "outputs": [],
   "source": [
    "# Q1. Statistics is the science of collecting,organizing and analyzing of data. \n",
    "# Example : Heights of students."
   ]
  },
  {
   "cell_type": "code",
   "execution_count": 5,
   "id": "bdc66087-d24d-4099-8680-25566b32ab6f",
   "metadata": {},
   "outputs": [],
   "source": [
    "# Q2. There are two types of statistics:\n",
    "#     a. Descriptive Statistics:It consists of organizing and summarising data. \n",
    "#     Example: Mean, median, mode.\n",
    "#     b. Inferential Statistics:It consists of using data you have used to form conclusion.\n",
    "#     Example: Z-test, t-test, Chi-square."
   ]
  },
  {
   "cell_type": "code",
   "execution_count": 7,
   "id": "b8543bb9-de53-42ca-8dec-737c1bfdd342",
   "metadata": {},
   "outputs": [],
   "source": [
    "# Q3. Two types of data:\n",
    "#     a. Quantitative data:In this type of data we can perform addition, subtraction, multiplication, division.\n",
    "#     example: weight, height, temperature.\n",
    "#     b. Qualitative data:This is categorical data.\n",
    "#     example: gender, customer feedback."
   ]
  },
  {
   "cell_type": "code",
   "execution_count": 8,
   "id": "c8ed5316-6cbb-407c-8711-364d77805389",
   "metadata": {},
   "outputs": [],
   "source": [
    "# Q4. (i) Grading in exam: A+, A, B+, B, C+, C, D, E :qualitative data\n",
    "# (ii) Colour of mangoes: yellow, green, orange, red :qualitative data\n",
    "# (iii) Height data of a class: [178.9, 179, 179.5, 176, 177.2, 178.3, 175.8,...]: quantitative data\n",
    "# (iv) Number of mangoes exported by a farm: [500, 600, 478, 672, ...]: quantitative data"
   ]
  },
  {
   "cell_type": "code",
   "execution_count": 1,
   "id": "7cd38cd1-240e-4d4f-b886-c709b45ae9eb",
   "metadata": {},
   "outputs": [],
   "source": [
    "# Q5. Level of measurement:\n",
    "#     a. Nominal : order doesn't matter. example: favorite colour, gender.\n",
    "#     b. Ordinal : order matter, difference can't measure. example: race-1st, 2nd, 3rd.\n",
    "#     c. Interval : order matter, difference can be measure but ratio can't measure. example: temperature:30F,60F,90F,120F.\n",
    "#     d. Ratio : order matter, ratio and difference both can be measurable. example: marks of student = 90,75,80,84,87."
   ]
  },
  {
   "cell_type": "code",
   "execution_count": 2,
   "id": "372a8e82-9c15-42f6-9198-4547a7bd9591",
   "metadata": {},
   "outputs": [],
   "source": [
    "#Q6. \n",
    "#Understanding the level of measurement is crucial when analyzing data because it determines the appropriate statistical techniques that can be applied, the type of summary statistics that can be calculated, and the inferences that can be made from the data.\n",
    "#Understanding the level of measurement is important because different statistical analyses are appropriate for different levels. For example, if you have nominal data, you may use chi-square tests to determine if there are any associations or differences between categories. On the other hand, if you have interval or ratio data, you can utilize techniques like t-tests, ANOVA, regression, or correlation analysis to explore relationships, make predictions, or test hypotheses."
   ]
  },
  {
   "cell_type": "code",
   "execution_count": 3,
   "id": "b620928b-6f40-48b2-b3a8-259c9e45462d",
   "metadata": {},
   "outputs": [],
   "source": [
    "#Q7 Because in nominal data order doesn't matter but in ordinal data order matters."
   ]
  },
  {
   "cell_type": "code",
   "execution_count": 4,
   "id": "e341ebc5-03d5-466f-8ffc-1c699b1cfcc6",
   "metadata": {},
   "outputs": [],
   "source": [
    "#Q8 Box plot."
   ]
  },
  {
   "cell_type": "code",
   "execution_count": 5,
   "id": "09e9d38b-58b3-47ac-936e-dfc2838090e3",
   "metadata": {},
   "outputs": [],
   "source": [
    "#Q9   \n",
    "#    a. Descriptive Statistics:It consists of organizing and summarising data. \n",
    "#     Example: Mean, median, mode.\n",
    "#     b. Inferential Statistics:It consists of using data you have used to form conclusion.\n",
    "#     Example: Z-test, t-test, Chi-square."
   ]
  },
  {
   "cell_type": "code",
   "execution_count": 6,
   "id": "b96bb6db-bae2-4bb2-87be-0a7ce76f98e1",
   "metadata": {},
   "outputs": [],
   "source": [
    "#Q10 Common measures of central tendency used in statistics are the mean, median, and mode. \n",
    "# Mean: The mean is the average value of a dataset.\n",
    "# Median: The median is the middle value in an ordered dataset.\n",
    "# Mode: The mode represents the most frequently occurring value(s) in a dataset.\n",
    "\n",
    "# Common measures of variability used in statistics are the range, variance, and standard deviation.\n",
    "# Range: The range is the simplest measure of variability. It is the difference between the maximum and minimum values in a dataset.\n",
    "# Variance: It is the spread of data.\n",
    "# Standard Deviation: The standard deviation is the square root of the variance."
   ]
  }
 ],
 "metadata": {
  "kernelspec": {
   "display_name": "Python 3 (ipykernel)",
   "language": "python",
   "name": "python3"
  },
  "language_info": {
   "codemirror_mode": {
    "name": "ipython",
    "version": 3
   },
   "file_extension": ".py",
   "mimetype": "text/x-python",
   "name": "python",
   "nbconvert_exporter": "python",
   "pygments_lexer": "ipython3",
   "version": "3.10.8"
  }
 },
 "nbformat": 4,
 "nbformat_minor": 5
}
