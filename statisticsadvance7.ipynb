{
 "cells": [
  {
   "cell_type": "code",
   "execution_count": 1,
   "id": "3dca749f-5865-424c-b772-166d138dae56",
   "metadata": {},
   "outputs": [],
   "source": [
    "import numpy as np\n",
    "from scipy.stats import f\n",
    "\n",
    "# Q1\n",
    "def variance_ratio_test(data1, data2):\n",
    "    var1 = np.var(data1, ddof=1)\n",
    "    var2 = np.var(data2, ddof=1)\n",
    "    \n",
    "    f_value = var1 / var2\n",
    "    p_value = f.sf(f_value, len(data1)-1, len(data2)-1)\n",
    "    \n",
    "    return f_value, p_value"
   ]
  },
  {
   "cell_type": "code",
   "execution_count": 2,
   "id": "2129c5fb-f8a7-419c-8164-168935847311",
   "metadata": {},
   "outputs": [],
   "source": [
    "# Q2\n",
    "def critical_f_value(alpha, dfn, dfd):\n",
    "    return f.ppf(1 - alpha/2, dfn, dfd)"
   ]
  },
  {
   "cell_type": "code",
   "execution_count": 3,
   "id": "0f875f1e-71db-4989-b0e4-26ac1de56441",
   "metadata": {},
   "outputs": [],
   "source": [
    "#Q3\n",
    "def variance_equality_test(sample1, sample2, var1, var2):\n",
    "    f_value = np.var(sample1, ddof=1) / np.var(sample2, ddof=1)\n",
    "    dfn = len(sample1) - 1\n",
    "    dfd = len(sample2) - 1\n",
    "    p_value = f.sf(f_value, dfn, dfd)\n",
    "    \n",
    "    return f_value, dfn, dfd, p_value"
   ]
  },
  {
   "cell_type": "code",
   "execution_count": 5,
   "id": "85dee7dc-7426-4e1e-86a7-b516d64d8ec9",
   "metadata": {},
   "outputs": [
    {
     "name": "stdout",
     "output_type": "stream",
     "text": [
      "Fail to reject the null hypothesis. Variances are not significantly different.\n"
     ]
    }
   ],
   "source": [
    "# Q4\n",
    "sample1 = np.random.normal(loc=0, scale=np.sqrt(10), size=12)\n",
    "sample2 = np.random.normal(loc=0, scale=np.sqrt(15), size=12)\n",
    "\n",
    "f_value, p_value = variance_ratio_test(sample1, sample2)\n",
    "\n",
    "alpha = 0.05\n",
    "critical_f = critical_f_value(alpha, len(sample1)-1, len(sample2)-1)\n",
    "\n",
    "if f_value > critical_f:\n",
    "    print(\"Reject the null hypothesis. Variances are significantly different.\")\n",
    "else:\n",
    "    print(\"Fail to reject the null hypothesis. Variances are not significantly different.\")"
   ]
  },
  {
   "cell_type": "code",
   "execution_count": 7,
   "id": "7827cc43-d40c-49d9-887c-5b0891f7fb84",
   "metadata": {},
   "outputs": [
    {
     "name": "stdout",
     "output_type": "stream",
     "text": [
      "Fail to reject the null hypothesis. The claim is justified.\n"
     ]
    }
   ],
   "source": [
    "# Q5\n",
    "sample_variance = 0.006\n",
    "n = 25\n",
    "claimed_variance = 0.005\n",
    "\n",
    "f_value = sample_variance / claimed_variance\n",
    "p_value = f.sf(f_value, n-1, 1)\n",
    "\n",
    "alpha = 0.01\n",
    "critical_f = critical_f_value(alpha, n-1, 1)\n",
    "\n",
    "if f_value > critical_f:\n",
    "    print(\"Reject the null hypothesis. The claim is not justified.\")\n",
    "else:\n",
    "    print(\"Fail to reject the null hypothesis. The claim is justified.\")"
   ]
  },
  {
   "cell_type": "code",
   "execution_count": 10,
   "id": "34fb9f6d-b5c7-4b58-9a20-9df0fcd901ba",
   "metadata": {},
   "outputs": [
    {
     "name": "stdout",
     "output_type": "stream",
     "text": [
      "Mean = 1.1111111111111112\n",
      "Variance = 0.43209876543209874\n"
     ]
    }
   ],
   "source": [
    "# Q6\n",
    "def f_distribution_stats(dfn, dfd):\n",
    "    mean = dfd / (dfd - 2)\n",
    "    variance = (2 * (dfd ** 2) * (dfn + dfd - 2)) / (dfn * (dfd - 2) ** 2 * (dfd - 4))\n",
    "    \n",
    "    return mean, variance\n",
    "mean, variance = f_distribution_stats(10, 20)\n",
    "print(\"Mean =\", mean)\n",
    "print(\"Variance =\", variance)"
   ]
  },
  {
   "cell_type": "code",
   "execution_count": 11,
   "id": "097f9e03-e16d-4123-9bb4-0baec988936c",
   "metadata": {},
   "outputs": [
    {
     "name": "stdout",
     "output_type": "stream",
     "text": [
      "Fail to reject the null hypothesis. Variances are not significantly different.\n"
     ]
    }
   ],
   "source": [
    "# Q7\n",
    "sample1_variance = 25\n",
    "sample1_size = 10\n",
    "sample2_variance = 20\n",
    "sample2_size = 15\n",
    "\n",
    "f_value = sample1_variance / sample2_variance\n",
    "dfn = sample1_size - 1\n",
    "dfd = sample2_size - 1\n",
    "p_value = f.sf(f_value, dfn, dfd)\n",
    "\n",
    "alpha = 0.10\n",
    "critical_f = critical_f_value(alpha, dfn, dfd)\n",
    "\n",
    "if f_value > critical_f:\n",
    "    print(\"Reject the null hypothesis. Variances are significantly different.\")\n",
    "else:\n",
    "    print(\"Fail to reject the null hypothesis. Variances are not significantly different.\")"
   ]
  },
  {
   "cell_type": "code",
   "execution_count": 12,
   "id": "308d6c4b-e51d-4162-8a4d-08d9b0afa4af",
   "metadata": {},
   "outputs": [
    {
     "name": "stdout",
     "output_type": "stream",
     "text": [
      "Fail to reject the null hypothesis. Variances are not significantly different.\n"
     ]
    }
   ],
   "source": [
    "# Q8\n",
    "restaurant_A = np.array([24, 25, 28, 23, 22, 20, 27])\n",
    "restaurant_B = np.array([31, 33, 35, 30, 32, 36])\n",
    "\n",
    "f_value, p_value = variance_ratio_test(restaurant_A, restaurant_B)\n",
    "\n",
    "alpha = 0.05\n",
    "critical_f = critical_f_value(alpha, len(restaurant_A)-1, len(restaurant_B)-1)\n",
    "\n",
    "if f_value > critical_f:\n",
    "    print(\"Reject the null hypothesis. Variances are significantly different.\")\n",
    "else:\n",
    "    print(\"Fail to reject the null hypothesis. Variances are not significantly different.\")"
   ]
  },
  {
   "cell_type": "code",
   "execution_count": 14,
   "id": "95b8181c-0bd5-4ec6-be8a-6ee41f8933a1",
   "metadata": {},
   "outputs": [
    {
     "name": "stdout",
     "output_type": "stream",
     "text": [
      "Fail to reject the null hypothesis. Variances are not significantly different.\n"
     ]
    }
   ],
   "source": [
    "# Q9\n",
    "group_A = np.array([80, 85, 90, 92, 87, 83])\n",
    "group_B = np.array([75, 78, 82, 79, 81, 84])\n",
    "\n",
    "f_value, p_value = variance_ratio_test(group_A, group_B)\n",
    "\n",
    "alpha = 0.01\n",
    "critical_f = critical_f_value(alpha, len(group_A)-1, len(group_B)-1)\n",
    "\n",
    "if f_value > critical_f:\n",
    "    print(\"Reject the null hypothesis. Variances are significantly different.\")\n",
    "else:\n",
    "    print(\"Fail to reject the null hypothesis. Variances are not significantly different.\")"
   ]
  }
 ],
 "metadata": {
  "kernelspec": {
   "display_name": "Python 3 (ipykernel)",
   "language": "python",
   "name": "python3"
  },
  "language_info": {
   "codemirror_mode": {
    "name": "ipython",
    "version": 3
   },
   "file_extension": ".py",
   "mimetype": "text/x-python",
   "name": "python",
   "nbconvert_exporter": "python",
   "pygments_lexer": "ipython3",
   "version": "3.10.8"
  }
 },
 "nbformat": 4,
 "nbformat_minor": 5
}
