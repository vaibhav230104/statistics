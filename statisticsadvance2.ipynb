{
 "cells": [
  {
   "cell_type": "code",
   "execution_count": 1,
   "id": "e732e858-e205-43d1-a864-1dff9069712d",
   "metadata": {},
   "outputs": [],
   "source": [
    "#Q1 pmf has disrete data,example:binomial,poisson and pdf has continuous data,example:gaussian distribution."
   ]
  },
  {
   "cell_type": "code",
   "execution_count": 2,
   "id": "affa01ba-a367-426e-887c-5ec4ac1d0d1a",
   "metadata": {},
   "outputs": [],
   "source": [
    "#Q2 It describes the probability that a random variable takes on a value less than or equal to a given point.\n",
    "# Example:F(x) = P(X ≤ x)\n",
    "# F(1) = P(X ≤ 1) = 1/6\n",
    "# F(2) = P(X ≤ 2) = 2/6\n",
    "# F(3) = P(X ≤ 3) = 3/6\n",
    "# F(4) = P(X ≤ 4) = 4/6\n",
    "# F(5) = P(X ≤ 5) = 5/6\n",
    "# F(6) = P(X ≤ 6) = 6/6 = 1\n",
    "# Uses: CDF is used in hypothesis testing to determine critical values and pvalues, The CDF helps in evaluating the characteristics of a random variable, such as its median, quartiles, and percentiles."
   ]
  },
  {
   "cell_type": "code",
   "execution_count": 3,
   "id": "9edcbc79-857d-4567-a9af-24cdb651892b",
   "metadata": {},
   "outputs": [],
   "source": [
    "#Q3 Heights and weights, test scores etc. The parameters of the normal distribution are the mean (μ) and the standard deviation (σ). "
   ]
  },
  {
   "cell_type": "code",
   "execution_count": 4,
   "id": "1d8fc6bc-96bf-4d1c-b6eb-29ce566563d3",
   "metadata": {},
   "outputs": [],
   "source": [
    "#Q4.Here are a few reasons why the normal distribution is important:\n",
    "# Central limit theory, in hypothesis testing.\n",
    "# Real-life examples of situations where the normal distribution can be observed include:Heights and weights, test scores etc."
   ]
  },
  {
   "cell_type": "code",
   "execution_count": 5,
   "id": "6c5d48bc-0c69-485c-aea2-245f005d11c6",
   "metadata": {},
   "outputs": [],
   "source": [
    "#Q5 The Bernoulli distribution is often used in situations where there are only two possible outcomes.example: tossing a coin 7 times.\n",
    "# a.Bernoulli Distribution: The Bernoulli distribution has two possible outcomes: success (typically represented as 1) and failure (typically represented as 0).\n",
    "# Binomial Distribution: The binomial distribution can have multiple possible outcomes, representing the count of successes in a fixed number of trials. The outcomes range from 0 to the fixed number of trials.\n",
    "# b.Bernoulli Distribution: The mean (μ) of the Bernoulli distribution is μ = p, and the variance (σ^2) is σ^2 = p * (1 - p).\n",
    "# Binomial Distribution: The mean (μ) of the binomial distribution is μ = n * p, and the variance (σ^2) is σ^2 = n * p * (1 - p)."
   ]
  },
  {
   "cell_type": "code",
   "execution_count": 6,
   "id": "03baf87d-e37a-4490-ba1c-55a2f9b93f28",
   "metadata": {},
   "outputs": [
    {
     "name": "stdout",
     "output_type": "stream",
     "text": [
      "Probability: 0.15865525393145707\n"
     ]
    }
   ],
   "source": [
    "#Q6 P(X>60) = 1 - P(X<=60)\n",
    "import scipy.stats as stats\n",
    "\n",
    "mean = 50\n",
    "std_dev = 10\n",
    "value = 60\n",
    "\n",
    "# Calculate the z-score\n",
    "z = (value - mean) / std_dev\n",
    "\n",
    "# Calculate the probability using the complementary CDF\n",
    "probability = 1 - stats.norm.cdf(z)\n",
    "\n",
    "print(\"Probability:\", probability)\n"
   ]
  },
  {
   "cell_type": "code",
   "execution_count": 7,
   "id": "24fd0a70-f25c-43b4-9d88-8d6f73fae3ee",
   "metadata": {},
   "outputs": [],
   "source": [
    "#Q7 The uniform distribution is a continuous probability distribution, pdf :f(x) = 1 / (b - a), example: An example to illustrate the uniform distribution is rolling a fair six-sided die. In this case, the possible outcomes are the numbers 1, 2, 3, 4, 5, and 6, and each outcome has an equal chance of occurring. We can model this situation using a uniform distribution with 'a' as 1 and 'b' as 6.\n",
    "\n",
    "# The probability density function of this uniform distribution is:\n",
    "\n",
    "# f(x) = 1 / (6 - 1) = 1/5"
   ]
  },
  {
   "cell_type": "code",
   "execution_count": 8,
   "id": "473aaad0-f2b0-4681-b909-d9f6f9ed9dfc",
   "metadata": {},
   "outputs": [],
   "source": [
    "#Q8 z score is (x - mean)/std deviation. It is used in hypothesis testing"
   ]
  },
  {
   "cell_type": "code",
   "execution_count": 9,
   "id": "49e8ee20-c4d9-499b-aab4-040ab7559f22",
   "metadata": {},
   "outputs": [],
   "source": [
    "#Q9 the Central Limit Theorem states that if we take repeated random samples from any population, regardless of its underlying distribution, the distribution of sample means will tend to be approximately normal as the sample size becomes larger.\n",
    "# significance:Approximation of the Normal Distribution"
   ]
  },
  {
   "cell_type": "code",
   "execution_count": null,
   "id": "85e5c491-e84f-40bb-bafb-1f4545d80646",
   "metadata": {},
   "outputs": [],
   "source": [
    "#Q10Independence: The observations in the sample should be independent of each other. This means that the outcome of one observation should not be influenced by the outcome of another observation.\n"
   ]
  }
 ],
 "metadata": {
  "kernelspec": {
   "display_name": "Python 3 (ipykernel)",
   "language": "python",
   "name": "python3"
  },
  "language_info": {
   "codemirror_mode": {
    "name": "ipython",
    "version": 3
   },
   "file_extension": ".py",
   "mimetype": "text/x-python",
   "name": "python",
   "nbconvert_exporter": "python",
   "pygments_lexer": "ipython3",
   "version": "3.10.8"
  }
 },
 "nbformat": 4,
 "nbformat_minor": 5
}
