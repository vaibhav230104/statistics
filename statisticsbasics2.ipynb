{
 "cells": [
  {
   "cell_type": "code",
   "execution_count": 1,
   "id": "bd016679-b4a7-4857-85c7-61f8a4a0f0f9",
   "metadata": {},
   "outputs": [],
   "source": [
    "#Q1 Three measures of central tendency:\n",
    "# a.Mean\n",
    "# b.Median\n",
    "# c.Mode"
   ]
  },
  {
   "cell_type": "code",
   "execution_count": 2,
   "id": "264768c2-c512-4937-9344-f64a75acab6e",
   "metadata": {},
   "outputs": [],
   "source": [
    "#Q2 Mean is the average of the dataset.\n",
    "# median is the middle value of dataset.\n",
    "# Mode is the maximum occuring frequency in dataset."
   ]
  },
  {
   "cell_type": "code",
   "execution_count": 15,
   "id": "6abe8bd5-820e-41e5-8c4b-7f6faf5a6c0c",
   "metadata": {},
   "outputs": [
    {
     "name": "stdout",
     "output_type": "stream",
     "text": [
      "177.01875\n",
      "177.0\n"
     ]
    },
    {
     "name": "stderr",
     "output_type": "stream",
     "text": [
      "/tmp/ipykernel_133/3820789460.py:8: FutureWarning: Unlike other reduction functions (e.g. `skew`, `kurtosis`), the default behavior of `mode` typically preserves the axis it acts along. In SciPy 1.11.0, this behavior will change: the default value of `keepdims` will become False, the `axis` over which the statistic is taken will be eliminated, and the value None will no longer be accepted. Set `keepdims` to True or False to avoid this warning.\n",
      "  stats.mode(dataset)\n"
     ]
    },
    {
     "data": {
      "text/plain": [
       "ModeResult(mode=array([177.]), count=array([3]))"
      ]
     },
     "execution_count": 15,
     "metadata": {},
     "output_type": "execute_result"
    }
   ],
   "source": [
    "#Q3\n",
    "dataset = [178,177,176,177,178.2,178,175,179,180,175,178.9,176.2,177,172.5,178,176.5]\n",
    "import numpy as np\n",
    "from scipy import stats\n",
    "print(np.mean(dataset))\n",
    "print(np.median(dataset))\n",
    "# print(np.mode(dataset))\n",
    "stats.mode(dataset)"
   ]
  },
  {
   "cell_type": "code",
   "execution_count": 17,
   "id": "9c946cf2-90b7-42b8-a9d4-e1ecb0274501",
   "metadata": {},
   "outputs": [
    {
     "name": "stdout",
     "output_type": "stream",
     "text": [
      "1.7885814036548633\n"
     ]
    }
   ],
   "source": [
    "#Q4\n",
    "Standard_dev = np.std(dataset)\n",
    "print(Standard_dev)"
   ]
  },
  {
   "cell_type": "code",
   "execution_count": 26,
   "id": "122c9117-772b-4ec5-8bab-331ad8f2219c",
   "metadata": {},
   "outputs": [],
   "source": [
    "#Q5\n",
    "# Range: The range is the simplest measure of variability. It is the difference between the maximum and minimum values in a dataset.\n",
    "# Variance: It is the spread of data.\n",
    "# Standard Deviation: The standard deviation is the square root of the variance."
   ]
  },
  {
   "cell_type": "code",
   "execution_count": 27,
   "id": "ff0e1927-1426-41e9-bd90-128066632c9d",
   "metadata": {},
   "outputs": [],
   "source": [
    "#Q6 Venn diagram is the easiest way to find the intersection, union etc.\n"
   ]
  },
  {
   "cell_type": "code",
   "execution_count": 28,
   "id": "e233b744-d69b-45df-bc4b-ea7911f8ff46",
   "metadata": {},
   "outputs": [],
   "source": [
    "#Q7\n",
    "# (i) (2,6)\n",
    "# (ii) (0,2,3,4,5,6,7,8,10)"
   ]
  },
  {
   "cell_type": "code",
   "execution_count": 29,
   "id": "b64b9bef-1774-4a43-afeb-73e58133b4e6",
   "metadata": {},
   "outputs": [],
   "source": [
    "#Q8\n",
    "# When we are talking about skewness then there are three skewness:\n",
    "#     a. Symmetrical Distribution.: mean = median = mode\n",
    "#     b. Positive skewed.: mean>= median>= mode\n",
    "#     c. Negative skewed.: mean<= median<= mode"
   ]
  },
  {
   "cell_type": "code",
   "execution_count": 30,
   "id": "d1574b2f-6abf-4251-be07-bec1d395eeb2",
   "metadata": {},
   "outputs": [],
   "source": [
    "#Q9 mean>= median>= mode"
   ]
  },
  {
   "cell_type": "code",
   "execution_count": 32,
   "id": "2f0204c8-5c9a-4d97-9405-7db76968ae8a",
   "metadata": {},
   "outputs": [],
   "source": [
    "#Q10 Covariance: Range from -infinity to +infinity, measures the extent of change in one with regards to change in other.\n",
    "#Correlation: Range from -1 to +1, measures the strength of variables under comparison."
   ]
  },
  {
   "cell_type": "code",
   "execution_count": 36,
   "id": "a4857fa5-3721-47f7-80e6-e9e1ba6b50c7",
   "metadata": {},
   "outputs": [
    {
     "data": {
      "text/plain": [
       "17.0"
      ]
     },
     "execution_count": 36,
     "metadata": {},
     "output_type": "execute_result"
    }
   ],
   "source": [
    "#Q11 sample mean = x1+ x2+ --------- +xn/n\n",
    "#example: \n",
    "data = [15,20,19,14]\n",
    "np.mean(data)"
   ]
  },
  {
   "cell_type": "code",
   "execution_count": 37,
   "id": "204532f6-c1c1-4634-a155-3e9e5ab135d0",
   "metadata": {},
   "outputs": [],
   "source": [
    "#Q12 mean = median = mode"
   ]
  },
  {
   "cell_type": "code",
   "execution_count": 38,
   "id": "0b71b517-6ba6-42dd-8eb7-e6ead94938c4",
   "metadata": {},
   "outputs": [],
   "source": [
    "#Q13 in covariance range from -infinity to +infinity and in correlation range from -1 to +1."
   ]
  },
  {
   "cell_type": "code",
   "execution_count": 46,
   "id": "198765c2-50d0-4b15-9b18-671758261d9e",
   "metadata": {},
   "outputs": [
    {
     "name": "stdout",
     "output_type": "stream",
     "text": [
      "mean: 42.166666666666664\n",
      "median: 4.5\n",
      "mode: ModeResult(mode=array([120]), count=array([2]))\n",
      "std_dev: 55.049724996790154\n",
      "variance: 3030.4722222222226\n"
     ]
    },
    {
     "name": "stderr",
     "output_type": "stream",
     "text": [
      "/tmp/ipykernel_133/3759864976.py:5: FutureWarning: Unlike other reduction functions (e.g. `skew`, `kurtosis`), the default behavior of `mode` typically preserves the axis it acts along. In SciPy 1.11.0, this behavior will change: the default value of `keepdims` will become False, the `axis` over which the statistic is taken will be eliminated, and the value None will no longer be accepted. Set `keepdims` to True or False to avoid this warning.\n",
      "  print('mode:',stats.mode(data1))\n"
     ]
    }
   ],
   "source": [
    "#Q14\n",
    "data1 = [1,3,4,5,120,120] #here 120 is the outlier\n",
    "print('mean:',np.mean(data1))\n",
    "print('median:',np.median(data1))\n",
    "print('mode:',stats.mode(data1))\n",
    "print('std_dev:',np.std(data1))\n",
    "print('variance:',np.var(data1))\n",
    "#we can see "
   ]
  },
  {
   "cell_type": "code",
   "execution_count": null,
   "id": "57de9f6f-5258-40fe-98d6-a4bf47c7401d",
   "metadata": {},
   "outputs": [],
   "source": []
  }
 ],
 "metadata": {
  "kernelspec": {
   "display_name": "Python 3 (ipykernel)",
   "language": "python",
   "name": "python3"
  },
  "language_info": {
   "codemirror_mode": {
    "name": "ipython",
    "version": 3
   },
   "file_extension": ".py",
   "mimetype": "text/x-python",
   "name": "python",
   "nbconvert_exporter": "python",
   "pygments_lexer": "ipython3",
   "version": "3.10.8"
  }
 },
 "nbformat": 4,
 "nbformat_minor": 5
}
